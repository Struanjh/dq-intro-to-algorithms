{
 "cells": [
  {
   "cell_type": "markdown",
   "metadata": {},
   "source": [
    "## Bulding Fast Queries on a csv file. \n",
    "\n"
   ]
  },
  {
   "cell_type": "markdown",
   "metadata": {},
   "source": [
    "## Dataset Description: An Inventory of Items available at a laptop store."
   ]
  },
  {
   "cell_type": "markdown",
   "metadata": {},
   "source": [
    "#### Columns Description:\n",
    "1. ID: A unique identifier for the laptop.\n",
    "2. Company: The name of the company that produces the laptop.\n",
    "3. Product: The name of the laptop.\n",
    "4. TypeName: The type of laptop.\n",
    "5. Inches: The size of the screen in inches.\n",
    "6. ScreenResolution: The resolution of the screen.\n",
    "7. CPU: The laptop CPU.\n",
    "8. RAM: The amount of RAM in the laptop.\n",
    "9. Memory: The size of the hard drive.\n",
    "10. GPU: The graphics card name.\n",
    "11. OpSys: The name of the operating system.\n",
    "12. Weight: The laptop weight.\n",
    "13. Price: The price of the laptop"
   ]
  },
  {
   "cell_type": "markdown",
   "metadata": {},
   "source": [
    "### Opening the file and previewing the data"
   ]
  },
  {
   "cell_type": "code",
   "execution_count": 16,
   "metadata": {},
   "outputs": [
    {
     "name": "stdout",
     "output_type": "stream",
     "text": [
      "['Id', 'Company', 'Product', 'TypeName', 'Inches', 'ScreenResolution', 'Cpu', 'Ram', 'Memory', 'Gpu', 'OpSys', 'Weight', 'Price'] [['6571244', 'Apple', 'MacBook Pro', 'Ultrabook', '13.3', 'IPS Panel Retina Display 2560x1600', 'Intel Core i5 2.3GHz', '8GB', '128GB SSD', 'Intel Iris Plus Graphics 640', 'macOS', '1.37kg', '1339'], ['7287764', 'Apple', 'Macbook Air', 'Ultrabook', '13.3', '1440x900', 'Intel Core i5 1.8GHz', '8GB', '128GB Flash Storage', 'Intel HD Graphics 6000', 'macOS', '1.34kg', '898'], ['3362737', 'HP', '250 G6', 'Notebook', '15.6', 'Full HD 1920x1080', 'Intel Core i5 7200U 2.5GHz', '8GB', '256GB SSD', 'Intel HD Graphics 620', 'No OS', '1.86kg', '575'], ['9722156', 'Apple', 'MacBook Pro', 'Ultrabook', '15.4', 'IPS Panel Retina Display 2880x1800', 'Intel Core i7 2.7GHz', '16GB', '512GB SSD', 'AMD Radeon Pro 455', 'macOS', '1.83kg', '2537']]\n"
     ]
    }
   ],
   "source": [
    "import csv\n",
    "with open(\"laptops.csv\") as file1:\n",
    "    read_content = csv.reader(file1)\n",
    "    raw_data = list(read_content)\n",
    "    headers = raw_data[0]\n",
    "    data = raw_data[1:]\n",
    "    print(headers, data[0:4])\n",
    "    \n",
    "##Note file automatically closed after \n",
    "##this code block completes"
   ]
  },
  {
   "cell_type": "markdown",
   "metadata": {},
   "source": [
    "### Make a class which represents our inventory."
   ]
  },
  {
   "cell_type": "code",
   "execution_count": 17,
   "metadata": {},
   "outputs": [],
   "source": [
    "class Inventory():\n",
    "\n",
    "    def __init__(self, csv_filename):\n",
    "        with open(csv_filename) as file:\n",
    "            read_file =  csv.reader(file)\n",
    "            data = list(read_file)\n",
    "        self.header = data[0]\n",
    "        self.rows = data[1:]\n",
    "        for row in self.rows:\n",
    "            row[-1] = int(row[-1])"
   ]
  },
  {
   "cell_type": "markdown",
   "metadata": {},
   "source": [
    "### Create a class instance to validate that it's working as expected"
   ]
  },
  {
   "cell_type": "code",
   "execution_count": 19,
   "metadata": {},
   "outputs": [
    {
     "name": "stdout",
     "output_type": "stream",
     "text": [
      "['Id', 'Company', 'Product', 'TypeName', 'Inches', 'ScreenResolution', 'Cpu', 'Ram', 'Memory', 'Gpu', 'OpSys', 'Weight', 'Price']\n",
      "1303\n"
     ]
    }
   ],
   "source": [
    "laptop_inventory = Inventory('laptops.csv')\n",
    "print(laptop_inventory.header)\n",
    "print(len(laptop_inventory.rows))"
   ]
  },
  {
   "cell_type": "markdown",
   "metadata": {},
   "source": [
    "### Add a method to the inventory class to search laptops by ID"
   ]
  },
  {
   "cell_type": "code",
   "execution_count": 25,
   "metadata": {},
   "outputs": [],
   "source": [
    "class Inventory():\n",
    "\n",
    "    def __init__(self, csv_filename):\n",
    "        with open(csv_filename) as file:\n",
    "            read_file =  csv.reader(file)\n",
    "            data = list(read_file)\n",
    "        self.header = data[0]\n",
    "        self.rows = data[1:]\n",
    "        for row in self.rows:\n",
    "            row[-1] = int(row[-1])\n",
    "    \n",
    "    def get_laptop_from_id(self, laptop_id):\n",
    "        for row in self.rows:\n",
    "            id = row[0]\n",
    "            if id == laptop_id:\n",
    "                return row\n",
    "        return None"
   ]
  },
  {
   "cell_type": "markdown",
   "metadata": {},
   "source": [
    "### Validate the method is working "
   ]
  },
  {
   "cell_type": "code",
   "execution_count": 27,
   "metadata": {},
   "outputs": [
    {
     "name": "stdout",
     "output_type": "stream",
     "text": [
      "['3362737', 'HP', '250 G6', 'Notebook', '15.6', 'Full HD 1920x1080', 'Intel Core i5 7200U 2.5GHz', '8GB', '256GB SSD', 'Intel HD Graphics 620', 'No OS', '1.86kg', 575]\n"
     ]
    }
   ],
   "source": [
    "laptop_instance = Inventory('laptops.csv')\n",
    "print(laptop_instance.get_laptop_from_id('3362737'))"
   ]
  },
  {
   "cell_type": "markdown",
   "metadata": {},
   "source": [
    "### Optimize the lookup method by pre-processing the data.\n",
    "The idea is preprocess the data into a dictionary where the keys are the IDs and the values the rows. Then, we will use that dictionary in the get_laptop_from_id() method. We can do this by:\n",
    "\n",
    "1. Preprocess the data and create the dictionary in the __init__() method.\n",
    "2. Re-implement the get_laptop_from_id() method. We will do it as a new method so that we can compare the two."
   ]
  },
  {
   "cell_type": "code",
   "execution_count": 34,
   "metadata": {},
   "outputs": [],
   "source": [
    "class Inventory():\n",
    "\n",
    "    def __init__(self, csv_filename):\n",
    "        with open(csv_filename) as file:\n",
    "            read_file =  csv.reader(file)\n",
    "            data = list(read_file)\n",
    "        self.header = data[0]\n",
    "        self.rows = data[1:]\n",
    "        for row in self.rows:\n",
    "            row[-1] = int(row[-1])\n",
    "        self.id_to_row = {}\n",
    "        for row in self.rows:\n",
    "            self.id_to_row[row[0]] = row\n",
    "    \n",
    "    def get_laptop_from_id(self, laptop_id):\n",
    "        for row in self.rows:\n",
    "            id = row[0]\n",
    "            if id == laptop_id:\n",
    "                return row\n",
    "        return None\n",
    "    \n",
    "    def get_laptop_from_id_fast(self, laptop_id):\n",
    "        if laptop_id in self.id_to_row:\n",
    "            return self.id_to_row[laptop_id]\n",
    "        return None\n",
    "        "
   ]
  },
  {
   "cell_type": "markdown",
   "metadata": {},
   "source": [
    "### Test the new method"
   ]
  },
  {
   "cell_type": "code",
   "execution_count": 35,
   "metadata": {},
   "outputs": [
    {
     "name": "stdout",
     "output_type": "stream",
     "text": [
      "['3362737', 'HP', '250 G6', 'Notebook', '15.6', 'Full HD 1920x1080', 'Intel Core i5 7200U 2.5GHz', '8GB', '256GB SSD', 'Intel HD Graphics 620', 'No OS', '1.86kg', 575]\n",
      "None\n"
     ]
    }
   ],
   "source": [
    "laptop_instance = Inventory('laptops.csv')\n",
    "print(laptop_instance.get_laptop_from_id_fast('3362737'))\n",
    "print(laptop_instance.get_laptop_from_id_fast('3362736'))"
   ]
  },
  {
   "cell_type": "markdown",
   "metadata": {},
   "source": [
    "### Compare the performance of the 2 lookup methods:\n",
    "- The get_laptop_from_id() method has time complexity O(R) where R is the number of rows.\n",
    "- In contrast, the new implementation is time complexity O(1). It does so by using more memory to store the self.id_to_row dictionary and using a bit more time creating an instance (because it needs to create the dictionary)."
   ]
  },
  {
   "cell_type": "markdown",
   "metadata": {},
   "source": [
    "#### Generate Random values to test with. (Using List Comprehenesion shorthand)"
   ]
  },
  {
   "cell_type": "code",
   "execution_count": 38,
   "metadata": {},
   "outputs": [],
   "source": [
    "import time, random\n",
    "ids = [str(random.randint(1000000, 9999999)) for _ in range(10000)]"
   ]
  },
  {
   "cell_type": "markdown",
   "metadata": {},
   "source": [
    "#### Time to calculate values for slower lookup"
   ]
  },
  {
   "cell_type": "code",
   "execution_count": 39,
   "metadata": {
    "scrolled": true
   },
   "outputs": [
    {
     "name": "stdout",
     "output_type": "stream",
     "text": [
      "1.7304761409759521\n"
     ]
    }
   ],
   "source": [
    "laptop_instance = Inventory('laptops.csv')\n",
    "total_time_no_dict = 0\n",
    "for id in ids:\n",
    "    start = time.time()\n",
    "    laptop_instance.get_laptop_from_id(id)\n",
    "    end = time.time()\n",
    "    total_time_no_dict += end-start\n",
    "print(total_time_no_dict)\n",
    "    \n",
    "    "
   ]
  },
  {
   "cell_type": "markdown",
   "metadata": {},
   "source": [
    "#### Time to calculate values for faster lookup"
   ]
  },
  {
   "cell_type": "code",
   "execution_count": 41,
   "metadata": {
    "scrolled": true
   },
   "outputs": [
    {
     "name": "stdout",
     "output_type": "stream",
     "text": [
      "0.005931377410888672\n"
     ]
    }
   ],
   "source": [
    "laptop_instance = Inventory('laptops.csv')\n",
    "total_time_dict = 0\n",
    "for id in ids:\n",
    "    start = time.time()\n",
    "    laptop_instance.get_laptop_from_id_fast(id)\n",
    "    end = time.time()\n",
    "    total_time_dict += end-start\n",
    "print(total_time_dict)"
   ]
  },
  {
   "cell_type": "markdown",
   "metadata": {},
   "source": [
    "### Two Laptop Promotion: whenver a customer is issued a giftcard, the amount they receive should purchase exactly one or two laptops so that there is nothing leftover.\n",
    "#### Add method to the class to implement this feature"
   ]
  },
  {
   "cell_type": "code",
   "execution_count": 46,
   "metadata": {},
   "outputs": [],
   "source": [
    "class Inventory():\n",
    "\n",
    "    def __init__(self, csv_filename):\n",
    "        with open(csv_filename) as file:\n",
    "            read_file =  csv.reader(file)\n",
    "            data = list(read_file)\n",
    "        self.header = data[0]\n",
    "        self.rows = data[1:]\n",
    "        for row in self.rows:\n",
    "            row[-1] = int(row[-1])\n",
    "        self.id_to_row = {}\n",
    "        for row in self.rows:\n",
    "            self.id_to_row[row[0]] = row\n",
    "    \n",
    "    def get_laptop_from_id(self, laptop_id):\n",
    "        for row in self.rows:\n",
    "            id = row[0]\n",
    "            if id == laptop_id:\n",
    "                return row\n",
    "        return None\n",
    "    \n",
    "    def get_laptop_from_id_fast(self, laptop_id):\n",
    "        if laptop_id in self.id_to_row:\n",
    "            return self.id_to_row[laptop_id]\n",
    "        return None\n",
    "    \n",
    "    def check_promotion_dollars(self, dollars):\n",
    "        ##First establish if exactly one laptop can be bought for dollars\n",
    "        for row in self.rows:\n",
    "            price = row[-1]\n",
    "            if price == dollars:\n",
    "                return True\n",
    "        ##Second establish id exactly two laptops can be bought for dollars\n",
    "        for i in self.rows:\n",
    "            for j in self.rows:\n",
    "                if i[-1] + j[-1] == dollars:\n",
    "                    return True\n",
    "        return False\n",
    "        "
   ]
  },
  {
   "cell_type": "markdown",
   "metadata": {},
   "source": [
    "#### Validate new method works as expected"
   ]
  },
  {
   "cell_type": "code",
   "execution_count": 47,
   "metadata": {},
   "outputs": [
    {
     "name": "stdout",
     "output_type": "stream",
     "text": [
      "True\n",
      "False\n"
     ]
    }
   ],
   "source": [
    "laptop_instance = Inventory('laptops.csv')\n",
    "print(laptop_instance.check_promotion_dollars(1000))\n",
    "print(laptop_instance.check_promotion_dollars(442))\n"
   ]
  },
  {
   "cell_type": "markdown",
   "metadata": {},
   "source": [
    "### Optimize the check_promotion_dollars method by preprocessing the data by storing all prices in a set when the class is initalized"
   ]
  },
  {
   "cell_type": "code",
   "execution_count": 49,
   "metadata": {},
   "outputs": [],
   "source": [
    "class Inventory():\n",
    "\n",
    "    def __init__(self, csv_filename):\n",
    "        with open(csv_filename) as file:\n",
    "            read_file =  csv.reader(file)\n",
    "            data = list(read_file)\n",
    "        self.header = data[0]\n",
    "        self.rows = data[1:]\n",
    "        for row in self.rows:\n",
    "            row[-1] = int(row[-1])\n",
    "        self.id_to_row = {}\n",
    "        for row in self.rows:\n",
    "            self.id_to_row[row[0]] = row\n",
    "        self.prices = set()\n",
    "        for row in self.rows:\n",
    "            self.prices.add(row[-1])\n",
    "    \n",
    "    def get_laptop_from_id(self, laptop_id):\n",
    "        for row in self.rows:\n",
    "            id = row[0]\n",
    "            if id == laptop_id:\n",
    "                return row\n",
    "        return None\n",
    "    \n",
    "    def get_laptop_from_id_fast(self, laptop_id):\n",
    "        if laptop_id in self.id_to_row:\n",
    "            return self.id_to_row[laptop_id]\n",
    "        return None\n",
    "    \n",
    "    def check_promotion_dollars(self, dollars):\n",
    "        #Check if one laptop equals dollars amount\n",
    "        for row in self.rows:\n",
    "            price = row[-1]\n",
    "            if price == dollars:\n",
    "                return True\n",
    "        #Check if a two laptop combo equals dollars amount\n",
    "        for i in self.rows:\n",
    "            for j in self.rows:\n",
    "                if i[-1] + j[-1] == dollars:\n",
    "                    return True\n",
    "        return False\n",
    "    \n",
    "    def check_promotion_dollars_fast(self, dollars):\n",
    "        #Check if one laptop equals dollars amount\n",
    "        if dollars in self.prices:\n",
    "            return True\n",
    "        #Check if a two laptop combo equals dollars amount\n",
    "        for price in self.prices:  \n",
    "        #LOGIC: price2 = total(dollars) - price 1\n",
    "            if dollars - price in self.prices:\n",
    "                return True\n",
    "        return False   "
   ]
  },
  {
   "cell_type": "markdown",
   "metadata": {},
   "source": [
    "#### Validate new method works"
   ]
  },
  {
   "cell_type": "code",
   "execution_count": 51,
   "metadata": {},
   "outputs": [
    {
     "name": "stdout",
     "output_type": "stream",
     "text": [
      "True\n",
      "False\n"
     ]
    }
   ],
   "source": [
    "laptop_instance = Inventory('laptops.csv')\n",
    "print(laptop_instance.check_promotion_dollars_fast(1000))\n",
    "print(laptop_instance.check_promotion_dollars_fast(442))"
   ]
  },
  {
   "cell_type": "markdown",
   "metadata": {},
   "source": [
    "#### Compare Performance"
   ]
  },
  {
   "cell_type": "code",
   "execution_count": 56,
   "metadata": {},
   "outputs": [
    {
     "name": "stdout",
     "output_type": "stream",
     "text": [
      "2.7590436935424805 0.0010709762573242188\n"
     ]
    }
   ],
   "source": [
    "prices = [random.randint(100, 5000) for _ in range(100)]\n",
    "laptops_instance = Inventory('laptops.csv')\n",
    "\n",
    "total_time_no_set = 0\n",
    "for price in prices:\n",
    "    start = time.time()\n",
    "    laptops_instance.check_promotion_dollars(price)\n",
    "    end = time.time()\n",
    "    total_time_no_set += end-start\n",
    "\n",
    "total_time_set = 0\n",
    "for price in prices:\n",
    "    start = time.time()\n",
    "    laptops_instance.check_promotion_dollars_fast(price)\n",
    "    end = time.time()\n",
    "    total_time_set += end-start\n",
    "\n",
    "print(total_time_no_set, total_time_set)"
   ]
  },
  {
   "cell_type": "markdown",
   "metadata": {},
   "source": [
    "### Adding a method which utilizes a binary search to find all laptops within a given budget.\n",
    "#### Given a budget of D dollars, find all laptops whose price it at most D"
   ]
  },
  {
   "cell_type": "code",
   "execution_count": 75,
   "metadata": {},
   "outputs": [],
   "source": [
    "def row_price(row):\n",
    "        return row[-1]\n",
    "    \n",
    "class Inventory():\n",
    "\n",
    "    def __init__(self, csv_filename):\n",
    "        with open(csv_filename) as file:\n",
    "            read_file =  csv.reader(file)\n",
    "            data = list(read_file)\n",
    "        self.header = data[0]\n",
    "        self.rows = data[1:]\n",
    "        for row in self.rows:\n",
    "            row[-1] = int(row[-1])\n",
    "        self.id_to_row = {}\n",
    "        for row in self.rows:\n",
    "            self.id_to_row[row[0]] = row\n",
    "        self.prices = set()\n",
    "        for row in self.rows:\n",
    "            self.prices.add(row[-1])\n",
    "        self.rows_by_price = sorted(self.rows, key=row_price)\n",
    "    \n",
    "    def get_laptop_from_id(self, laptop_id):\n",
    "        for row in self.rows:\n",
    "            id = row[0]\n",
    "            if id == laptop_id:\n",
    "                return row\n",
    "        return None\n",
    "    \n",
    "    def get_laptop_from_id_fast(self, laptop_id):\n",
    "        if laptop_id in self.id_to_row:\n",
    "            return self.id_to_row[laptop_id]\n",
    "        return None\n",
    "    \n",
    "    def check_promotion_dollars(self, dollars):\n",
    "        #Check if one laptop equals dollars amount\n",
    "        for row in self.rows:\n",
    "            price = row[-1]\n",
    "            if price == dollars:\n",
    "                return True\n",
    "        #Check if a two laptop combo equals dollars amount\n",
    "        for i in self.rows:\n",
    "            for j in self.rows:\n",
    "                if i[-1] + j[-1] == dollars:\n",
    "                    return True\n",
    "        return False\n",
    "    \n",
    "    def check_promotion_dollars_fast(self, dollars):\n",
    "        #Check if one laptop equals dollars amount\n",
    "        if dollars in self.prices:\n",
    "            return True\n",
    "        #Check if a two laptop combo equals dollars amount\n",
    "        for price in self.prices:  \n",
    "        #LOGIC: price2 = total(dollars) - price 1\n",
    "            if dollars - price in self.prices:\n",
    "                return True\n",
    "        return False  \n",
    "    \n",
    "    def find_first_laptop_more_expensive(self, target_price):\n",
    "        range_start = 0                                   \n",
    "        range_end = len(self.rows_by_price) - 1                   \n",
    "        while range_start < range_end:\n",
    "            range_middle = (range_end + range_start) // 2  \n",
    "            price = self.rows_by_price[range_middle][-1]\n",
    "            if price > target_price:\n",
    "                range_end = range_middle\n",
    "            else:\n",
    "                range_start = range_middle + 1\n",
    "        if self.rows_by_price[range_start][-1] <= target_price:                  \n",
    "            return -1                                   \n",
    "        return range_start\n",
    "        "
   ]
  },
  {
   "cell_type": "code",
   "execution_count": 76,
   "metadata": {},
   "outputs": [
    {
     "name": "stdout",
     "output_type": "stream",
     "text": [
      "683\n",
      "-1\n"
     ]
    }
   ],
   "source": [
    "laptop_instance = Inventory('laptops.csv')\n",
    "print(laptop_instance.find_first_laptop_more_expensive(1000))\n",
    "print(laptop_instance.find_first_laptop_more_expensive(10000))"
   ]
  },
  {
   "cell_type": "code",
   "execution_count": null,
   "metadata": {},
   "outputs": [],
   "source": []
  }
 ],
 "metadata": {
  "kernelspec": {
   "display_name": "Python 3",
   "language": "python",
   "name": "python3"
  },
  "language_info": {
   "codemirror_mode": {
    "name": "ipython",
    "version": 3
   },
   "file_extension": ".py",
   "mimetype": "text/x-python",
   "name": "python",
   "nbconvert_exporter": "python",
   "pygments_lexer": "ipython3",
   "version": "3.8.2"
  }
 },
 "nbformat": 4,
 "nbformat_minor": 2
}
